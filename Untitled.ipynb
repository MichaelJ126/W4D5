{
 "cells": [
  {
   "cell_type": "code",
   "execution_count": 2,
   "id": "1f52c97c-15b0-4273-a4f9-b08277ca1cfd",
   "metadata": {
    "collapsed": true,
    "jupyter": {
     "outputs_hidden": true
    }
   },
   "outputs": [
    {
     "name": "stdout",
     "output_type": "stream",
     "text": [
      "\n",
      "1. Create User\n",
      "2. Add Property\n",
      "3. Calculate ROI\n",
      "4. Exit\n"
     ]
    },
    {
     "name": "stdin",
     "output_type": "stream",
     "text": [
      "Select an option:  2\n"
     ]
    },
    {
     "name": "stdout",
     "output_type": "stream",
     "text": [
      "Please create a user first.\n",
      "\n",
      "1. Create User\n",
      "2. Add Property\n",
      "3. Calculate ROI\n",
      "4. Exit\n"
     ]
    },
    {
     "name": "stdin",
     "output_type": "stream",
     "text": [
      "Select an option:  add property\n"
     ]
    },
    {
     "name": "stdout",
     "output_type": "stream",
     "text": [
      "Invalid choice. Please try again.\n",
      "\n",
      "1. Create User\n",
      "2. Add Property\n",
      "3. Calculate ROI\n",
      "4. Exit\n"
     ]
    },
    {
     "name": "stdin",
     "output_type": "stream",
     "text": [
      "Select an option:  1\n",
      "Enter user name:  Michael\n"
     ]
    },
    {
     "name": "stdout",
     "output_type": "stream",
     "text": [
      "User Michael created!\n",
      "\n",
      "1. Create User\n",
      "2. Add Property\n",
      "3. Calculate ROI\n",
      "4. Exit\n"
     ]
    },
    {
     "name": "stdin",
     "output_type": "stream",
     "text": [
      "Select an option:  3\n",
      "Enter user name:  Michael\n",
      "Enter property name:  Michael's property\n"
     ]
    },
    {
     "name": "stdout",
     "output_type": "stream",
     "text": [
      "Property Michael's property not found!\n",
      "\n",
      "1. Create User\n",
      "2. Add Property\n",
      "3. Calculate ROI\n",
      "4. Exit\n"
     ]
    },
    {
     "name": "stdin",
     "output_type": "stream",
     "text": [
      "Select an option:  3\n",
      "Enter user name:  Michael\n",
      "Enter property name:  Michael's property\n"
     ]
    },
    {
     "name": "stdout",
     "output_type": "stream",
     "text": [
      "Property Michael's property not found!\n",
      "\n",
      "1. Create User\n",
      "2. Add Property\n",
      "3. Calculate ROI\n",
      "4. Exit\n"
     ]
    },
    {
     "name": "stdin",
     "output_type": "stream",
     "text": [
      "Select an option:  calculate ROI\n"
     ]
    },
    {
     "name": "stdout",
     "output_type": "stream",
     "text": [
      "Invalid choice. Please try again.\n",
      "\n",
      "1. Create User\n",
      "2. Add Property\n",
      "3. Calculate ROI\n",
      "4. Exit\n"
     ]
    },
    {
     "name": "stdin",
     "output_type": "stream",
     "text": [
      "Select an option:  4\n"
     ]
    }
   ],
   "source": [
    "# W4 Friday Project - OOP Calculation of Rental Income\n",
    "\n",
    "class Expense:\n",
    "    def __init__(self, name, amount):\n",
    "        self.name = name\n",
    "        self.amount = amount\n",
    "\n",
    "\n",
    "class Income:\n",
    "    def __init__(self, name, amount):\n",
    "        self.name = name\n",
    "        self.amount = amount\n",
    "\n",
    "\n",
    "class Property:\n",
    "    def __init__(self, name, purchase_price, expenses=None, incomes=None):\n",
    "        self.name = name\n",
    "        self.purchase_price = purchase_price\n",
    "        self.expenses = expenses or []\n",
    "        self.incomes = incomes or []\n",
    "\n",
    "    def calculate_roi(self):\n",
    "        total_income = sum(income.amount for income in self.incomes)\n",
    "        total_expense = sum(expense.amount for expense in self.expenses)\n",
    "        net_income = total_income - total_expense\n",
    "        roi = (net_income / self.purchase_price) * 100\n",
    "        return roi\n",
    "\n",
    "\n",
    "class User:\n",
    "    def __init__(self, name):\n",
    "        self.name = name\n",
    "        self.properties = []\n",
    "\n",
    "    def add_property(self, property):\n",
    "        self.properties.append(property)\n",
    "\n",
    "\n",
    "def main():\n",
    "    users = []\n",
    "\n",
    "    while True:\n",
    "        print(\"\\n1. Create User\\n2. Add Property\\n3. Calculate ROI\\n4. Exit\")\n",
    "        choice = input(\"Select an option: \")\n",
    "\n",
    "        if choice == '1':\n",
    "            user_name = input(\"Enter user name: \")\n",
    "            user = User(user_name)\n",
    "            users.append(user)\n",
    "            print(f\"User {user_name} created!\")\n",
    "\n",
    "        elif choice == '2':\n",
    "            if not users:\n",
    "                print(\"Please create a user first.\")\n",
    "                continue\n",
    "\n",
    "            user_name = input(\"Enter user name: \")\n",
    "            user = next((u for u in users if u.name == user_name), None)\n",
    "\n",
    "            if user:\n",
    "                property_name = input(\"Enter property name: \")\n",
    "                purchase_price = float(input(\"Enter property purchase price: \"))\n",
    "                property = Property(property_name, purchase_price)\n",
    "                user.add_property(property)\n",
    "                print(f\"Property {property_name} added to user {user_name}!\")\n",
    "\n",
    "            else:\n",
    "                print(f\"User {user_name} not found!\")\n",
    "\n",
    "        elif choice == '3':\n",
    "            if not users:\n",
    "                print(\"Please create a user first.\")\n",
    "                continue\n",
    "\n",
    "            user_name = input(\"Enter user name: \")\n",
    "            user = next((u for u in users if u.name == user_name), None)\n",
    "\n",
    "            if user:\n",
    "                property_name = input(\"Enter property name: \")\n",
    "                property = next((p for p in user.properties if p.name == property_name), None)\n",
    "\n",
    "                if property:\n",
    "                    print(f\"ROI for {property_name}: {property.calculate_roi()}%\")\n",
    "                else:\n",
    "                    print(f\"Property {property_name} not found!\")\n",
    "\n",
    "            else:\n",
    "                print(f\"User {user_name} not found!\")\n",
    "\n",
    "        elif choice == '4':\n",
    "            break\n",
    "\n",
    "        else:\n",
    "            print(\"Invalid choice. Please try again.\")\n",
    "\n",
    "\n",
    "if __name__ == \"__main__\":\n",
    "    main()\n"
   ]
  },
  {
   "cell_type": "code",
   "execution_count": null,
   "id": "214b7204-3b21-42e9-aad4-0bf39f6944a2",
   "metadata": {},
   "outputs": [],
   "source": []
  },
  {
   "cell_type": "code",
   "execution_count": null,
   "id": "109c955e-5908-4cd9-9770-e39487a326cd",
   "metadata": {},
   "outputs": [],
   "source": []
  }
 ],
 "metadata": {
  "kernelspec": {
   "display_name": "Python 3 (ipykernel)",
   "language": "python",
   "name": "python3"
  },
  "language_info": {
   "codemirror_mode": {
    "name": "ipython",
    "version": 3
   },
   "file_extension": ".py",
   "mimetype": "text/x-python",
   "name": "python",
   "nbconvert_exporter": "python",
   "pygments_lexer": "ipython3",
   "version": "3.12.0"
  }
 },
 "nbformat": 4,
 "nbformat_minor": 5
}
